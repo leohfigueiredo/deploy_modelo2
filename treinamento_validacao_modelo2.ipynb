{
  "cells": [
    {
      "cell_type": "markdown",
      "metadata": {},
      "source": [
        "## Trabalho Análise de Modelos Preditivos com Sklearn"
      ]
    },
    {
      "cell_type": "markdown",
      "metadata": {},
      "source": [
        "Aluno: Leonardo Henrique de Figueiredo\n"
      ]
    },
    {
      "cell_type": "markdown",
      "metadata": {},
      "source": [
        "Modelo de Classificacao - Regressao logistica"
      ]
    },
    {
      "cell_type": "markdown",
      "metadata": {},
      "source": [
        "Dataset: Venda de bicicletas na Europa. https://www.kaggle.com/code/sadiqshah/bike-store-sales-in-europe/data"
      ]
    },
    {
      "cell_type": "code",
      "execution_count": 1,
      "metadata": {
        "id": "CpKwWs-DWCTp"
      },
      "outputs": [],
      "source": [
        "#importacao de dependencias \n",
        "\n",
        "import pandas as pd\n",
        "import numpy as np\n",
        "import matplotlib.pyplot as plt\n",
        "import seaborn as sns\n",
        " \n",
        " \n",
        "import statsmodels.api as sm\n",
        "import statsmodels.formula.api as smf\n",
        "from sklearn.linear_model import LogisticRegression"
      ]
    },
    {
      "cell_type": "code",
      "execution_count": 2,
      "metadata": {
        "id": "m_FDreIqg4Zn"
      },
      "outputs": [],
      "source": [
        "from sklearn.metrics import roc_auc_score, roc_curve, classification_report,\\\n",
        "                            accuracy_score, confusion_matrix, auc"
      ]
    },
    {
      "cell_type": "code",
      "execution_count": 3,
      "metadata": {},
      "outputs": [],
      "source": [
        "# descompactacao de arquivo \n",
        "import zipfile\n",
        "\n",
        "with zipfile.ZipFile('/home/sklearn/Trabalho/Sales.csv.zip', 'r') as zipref:\n",
        "    zipref.extractall('/home/sklearn/Trabalho/Sales_bike')"
      ]
    },
    {
      "cell_type": "code",
      "execution_count": 3,
      "metadata": {
        "id": "fWwNkl73hAT9"
      },
      "outputs": [],
      "source": [
        "# leitura do dataset --- alterado nome e caminho para sua avaliacao \n",
        "#sales = pd.read_csv(\"/home/sklearn/Trabalho/Sales_bike/Sales.csv\")\n",
        "sales = pd.read_csv(\"/home/Trabalho/pasta_dataset2/dataset2.csv\") "
      ]
    },
    {
      "cell_type": "code",
      "execution_count": 82,
      "metadata": {
        "colab": {
          "base_uri": "https://localhost:8080/",
          "height": 363
        },
        "id": "ueXpzkephKAT",
        "outputId": "6cbafa15-e26e-46f1-b1fb-9ecf4faa4195"
      },
      "outputs": [
        {
          "data": {
            "text/html": [
              "<div>\n",
              "<style scoped>\n",
              "    .dataframe tbody tr th:only-of-type {\n",
              "        vertical-align: middle;\n",
              "    }\n",
              "\n",
              "    .dataframe tbody tr th {\n",
              "        vertical-align: top;\n",
              "    }\n",
              "\n",
              "    .dataframe thead th {\n",
              "        text-align: right;\n",
              "    }\n",
              "</style>\n",
              "<table border=\"1\" class=\"dataframe\">\n",
              "  <thead>\n",
              "    <tr style=\"text-align: right;\">\n",
              "      <th></th>\n",
              "      <th>Date</th>\n",
              "      <th>Day</th>\n",
              "      <th>Month</th>\n",
              "      <th>Year</th>\n",
              "      <th>Customer_Age</th>\n",
              "      <th>Age_Group</th>\n",
              "      <th>Customer_Gender</th>\n",
              "      <th>Country</th>\n",
              "      <th>State</th>\n",
              "      <th>Product_Category</th>\n",
              "      <th>Sub_Category</th>\n",
              "      <th>Product</th>\n",
              "      <th>Order_Quantity</th>\n",
              "      <th>Unit_Cost</th>\n",
              "      <th>Unit_Price</th>\n",
              "      <th>Profit</th>\n",
              "      <th>Cost</th>\n",
              "      <th>Revenue</th>\n",
              "    </tr>\n",
              "  </thead>\n",
              "  <tbody>\n",
              "    <tr>\n",
              "      <th>0</th>\n",
              "      <td>2013-11-26</td>\n",
              "      <td>26</td>\n",
              "      <td>November</td>\n",
              "      <td>2013</td>\n",
              "      <td>19</td>\n",
              "      <td>Youth (&lt;25)</td>\n",
              "      <td>M</td>\n",
              "      <td>Canada</td>\n",
              "      <td>British Columbia</td>\n",
              "      <td>Accessories</td>\n",
              "      <td>Bike Racks</td>\n",
              "      <td>Hitch Rack - 4-Bike</td>\n",
              "      <td>8</td>\n",
              "      <td>45</td>\n",
              "      <td>120</td>\n",
              "      <td>590</td>\n",
              "      <td>360</td>\n",
              "      <td>950</td>\n",
              "    </tr>\n",
              "    <tr>\n",
              "      <th>1</th>\n",
              "      <td>2015-11-26</td>\n",
              "      <td>26</td>\n",
              "      <td>November</td>\n",
              "      <td>2015</td>\n",
              "      <td>19</td>\n",
              "      <td>Youth (&lt;25)</td>\n",
              "      <td>M</td>\n",
              "      <td>Canada</td>\n",
              "      <td>British Columbia</td>\n",
              "      <td>Accessories</td>\n",
              "      <td>Bike Racks</td>\n",
              "      <td>Hitch Rack - 4-Bike</td>\n",
              "      <td>8</td>\n",
              "      <td>45</td>\n",
              "      <td>120</td>\n",
              "      <td>590</td>\n",
              "      <td>360</td>\n",
              "      <td>950</td>\n",
              "    </tr>\n",
              "    <tr>\n",
              "      <th>2</th>\n",
              "      <td>2014-03-23</td>\n",
              "      <td>23</td>\n",
              "      <td>March</td>\n",
              "      <td>2014</td>\n",
              "      <td>49</td>\n",
              "      <td>Adults (35-64)</td>\n",
              "      <td>M</td>\n",
              "      <td>Australia</td>\n",
              "      <td>New South Wales</td>\n",
              "      <td>Accessories</td>\n",
              "      <td>Bike Racks</td>\n",
              "      <td>Hitch Rack - 4-Bike</td>\n",
              "      <td>23</td>\n",
              "      <td>45</td>\n",
              "      <td>120</td>\n",
              "      <td>1366</td>\n",
              "      <td>1035</td>\n",
              "      <td>2401</td>\n",
              "    </tr>\n",
              "    <tr>\n",
              "      <th>3</th>\n",
              "      <td>2016-03-23</td>\n",
              "      <td>23</td>\n",
              "      <td>March</td>\n",
              "      <td>2016</td>\n",
              "      <td>49</td>\n",
              "      <td>Adults (35-64)</td>\n",
              "      <td>M</td>\n",
              "      <td>Australia</td>\n",
              "      <td>New South Wales</td>\n",
              "      <td>Accessories</td>\n",
              "      <td>Bike Racks</td>\n",
              "      <td>Hitch Rack - 4-Bike</td>\n",
              "      <td>20</td>\n",
              "      <td>45</td>\n",
              "      <td>120</td>\n",
              "      <td>1188</td>\n",
              "      <td>900</td>\n",
              "      <td>2088</td>\n",
              "    </tr>\n",
              "    <tr>\n",
              "      <th>4</th>\n",
              "      <td>2014-05-15</td>\n",
              "      <td>15</td>\n",
              "      <td>May</td>\n",
              "      <td>2014</td>\n",
              "      <td>47</td>\n",
              "      <td>Adults (35-64)</td>\n",
              "      <td>F</td>\n",
              "      <td>Australia</td>\n",
              "      <td>New South Wales</td>\n",
              "      <td>Accessories</td>\n",
              "      <td>Bike Racks</td>\n",
              "      <td>Hitch Rack - 4-Bike</td>\n",
              "      <td>4</td>\n",
              "      <td>45</td>\n",
              "      <td>120</td>\n",
              "      <td>238</td>\n",
              "      <td>180</td>\n",
              "      <td>418</td>\n",
              "    </tr>\n",
              "    <tr>\n",
              "      <th>5</th>\n",
              "      <td>2016-05-15</td>\n",
              "      <td>15</td>\n",
              "      <td>May</td>\n",
              "      <td>2016</td>\n",
              "      <td>47</td>\n",
              "      <td>Adults (35-64)</td>\n",
              "      <td>F</td>\n",
              "      <td>Australia</td>\n",
              "      <td>New South Wales</td>\n",
              "      <td>Accessories</td>\n",
              "      <td>Bike Racks</td>\n",
              "      <td>Hitch Rack - 4-Bike</td>\n",
              "      <td>5</td>\n",
              "      <td>45</td>\n",
              "      <td>120</td>\n",
              "      <td>297</td>\n",
              "      <td>225</td>\n",
              "      <td>522</td>\n",
              "    </tr>\n",
              "    <tr>\n",
              "      <th>6</th>\n",
              "      <td>2014-05-22</td>\n",
              "      <td>22</td>\n",
              "      <td>May</td>\n",
              "      <td>2014</td>\n",
              "      <td>47</td>\n",
              "      <td>Adults (35-64)</td>\n",
              "      <td>F</td>\n",
              "      <td>Australia</td>\n",
              "      <td>Victoria</td>\n",
              "      <td>Accessories</td>\n",
              "      <td>Bike Racks</td>\n",
              "      <td>Hitch Rack - 4-Bike</td>\n",
              "      <td>4</td>\n",
              "      <td>45</td>\n",
              "      <td>120</td>\n",
              "      <td>199</td>\n",
              "      <td>180</td>\n",
              "      <td>379</td>\n",
              "    </tr>\n",
              "    <tr>\n",
              "      <th>7</th>\n",
              "      <td>2016-05-22</td>\n",
              "      <td>22</td>\n",
              "      <td>May</td>\n",
              "      <td>2016</td>\n",
              "      <td>47</td>\n",
              "      <td>Adults (35-64)</td>\n",
              "      <td>F</td>\n",
              "      <td>Australia</td>\n",
              "      <td>Victoria</td>\n",
              "      <td>Accessories</td>\n",
              "      <td>Bike Racks</td>\n",
              "      <td>Hitch Rack - 4-Bike</td>\n",
              "      <td>2</td>\n",
              "      <td>45</td>\n",
              "      <td>120</td>\n",
              "      <td>100</td>\n",
              "      <td>90</td>\n",
              "      <td>190</td>\n",
              "    </tr>\n",
              "    <tr>\n",
              "      <th>8</th>\n",
              "      <td>2014-02-22</td>\n",
              "      <td>22</td>\n",
              "      <td>February</td>\n",
              "      <td>2014</td>\n",
              "      <td>35</td>\n",
              "      <td>Adults (35-64)</td>\n",
              "      <td>M</td>\n",
              "      <td>Australia</td>\n",
              "      <td>Victoria</td>\n",
              "      <td>Accessories</td>\n",
              "      <td>Bike Racks</td>\n",
              "      <td>Hitch Rack - 4-Bike</td>\n",
              "      <td>22</td>\n",
              "      <td>45</td>\n",
              "      <td>120</td>\n",
              "      <td>1096</td>\n",
              "      <td>990</td>\n",
              "      <td>2086</td>\n",
              "    </tr>\n",
              "    <tr>\n",
              "      <th>9</th>\n",
              "      <td>2016-02-22</td>\n",
              "      <td>22</td>\n",
              "      <td>February</td>\n",
              "      <td>2016</td>\n",
              "      <td>35</td>\n",
              "      <td>Adults (35-64)</td>\n",
              "      <td>M</td>\n",
              "      <td>Australia</td>\n",
              "      <td>Victoria</td>\n",
              "      <td>Accessories</td>\n",
              "      <td>Bike Racks</td>\n",
              "      <td>Hitch Rack - 4-Bike</td>\n",
              "      <td>21</td>\n",
              "      <td>45</td>\n",
              "      <td>120</td>\n",
              "      <td>1046</td>\n",
              "      <td>945</td>\n",
              "      <td>1991</td>\n",
              "    </tr>\n",
              "  </tbody>\n",
              "</table>\n",
              "</div>"
            ],
            "text/plain": [
              "         Date  Day     Month  Year  Customer_Age       Age_Group  \\\n",
              "0  2013-11-26   26  November  2013            19     Youth (<25)   \n",
              "1  2015-11-26   26  November  2015            19     Youth (<25)   \n",
              "2  2014-03-23   23     March  2014            49  Adults (35-64)   \n",
              "3  2016-03-23   23     March  2016            49  Adults (35-64)   \n",
              "4  2014-05-15   15       May  2014            47  Adults (35-64)   \n",
              "5  2016-05-15   15       May  2016            47  Adults (35-64)   \n",
              "6  2014-05-22   22       May  2014            47  Adults (35-64)   \n",
              "7  2016-05-22   22       May  2016            47  Adults (35-64)   \n",
              "8  2014-02-22   22  February  2014            35  Adults (35-64)   \n",
              "9  2016-02-22   22  February  2016            35  Adults (35-64)   \n",
              "\n",
              "  Customer_Gender    Country             State Product_Category Sub_Category  \\\n",
              "0               M     Canada  British Columbia      Accessories   Bike Racks   \n",
              "1               M     Canada  British Columbia      Accessories   Bike Racks   \n",
              "2               M  Australia   New South Wales      Accessories   Bike Racks   \n",
              "3               M  Australia   New South Wales      Accessories   Bike Racks   \n",
              "4               F  Australia   New South Wales      Accessories   Bike Racks   \n",
              "5               F  Australia   New South Wales      Accessories   Bike Racks   \n",
              "6               F  Australia          Victoria      Accessories   Bike Racks   \n",
              "7               F  Australia          Victoria      Accessories   Bike Racks   \n",
              "8               M  Australia          Victoria      Accessories   Bike Racks   \n",
              "9               M  Australia          Victoria      Accessories   Bike Racks   \n",
              "\n",
              "               Product  Order_Quantity  Unit_Cost  Unit_Price  Profit  Cost  \\\n",
              "0  Hitch Rack - 4-Bike               8         45         120     590   360   \n",
              "1  Hitch Rack - 4-Bike               8         45         120     590   360   \n",
              "2  Hitch Rack - 4-Bike              23         45         120    1366  1035   \n",
              "3  Hitch Rack - 4-Bike              20         45         120    1188   900   \n",
              "4  Hitch Rack - 4-Bike               4         45         120     238   180   \n",
              "5  Hitch Rack - 4-Bike               5         45         120     297   225   \n",
              "6  Hitch Rack - 4-Bike               4         45         120     199   180   \n",
              "7  Hitch Rack - 4-Bike               2         45         120     100    90   \n",
              "8  Hitch Rack - 4-Bike              22         45         120    1096   990   \n",
              "9  Hitch Rack - 4-Bike              21         45         120    1046   945   \n",
              "\n",
              "   Revenue  \n",
              "0      950  \n",
              "1      950  \n",
              "2     2401  \n",
              "3     2088  \n",
              "4      418  \n",
              "5      522  \n",
              "6      379  \n",
              "7      190  \n",
              "8     2086  \n",
              "9     1991  "
            ]
          },
          "execution_count": 82,
          "metadata": {},
          "output_type": "execute_result"
        }
      ],
      "source": [
        "sales.head(10)"
      ]
    },
    {
      "cell_type": "code",
      "execution_count": 83,
      "metadata": {
        "colab": {
          "base_uri": "https://localhost:8080/"
        },
        "id": "LzTbvsBohNZr",
        "outputId": "f14d85e6-304a-430d-c638-c351f001d4e5"
      },
      "outputs": [
        {
          "name": "stdout",
          "output_type": "stream",
          "text": [
            "<class 'pandas.core.frame.DataFrame'>\n",
            "RangeIndex: 113036 entries, 0 to 113035\n",
            "Data columns (total 18 columns):\n",
            " #   Column            Non-Null Count   Dtype \n",
            "---  ------            --------------   ----- \n",
            " 0   Date              113036 non-null  object\n",
            " 1   Day               113036 non-null  int64 \n",
            " 2   Month             113036 non-null  object\n",
            " 3   Year              113036 non-null  int64 \n",
            " 4   Customer_Age      113036 non-null  int64 \n",
            " 5   Age_Group         113036 non-null  object\n",
            " 6   Customer_Gender   113036 non-null  object\n",
            " 7   Country           113036 non-null  object\n",
            " 8   State             113036 non-null  object\n",
            " 9   Product_Category  113036 non-null  object\n",
            " 10  Sub_Category      113036 non-null  object\n",
            " 11  Product           113036 non-null  object\n",
            " 12  Order_Quantity    113036 non-null  int64 \n",
            " 13  Unit_Cost         113036 non-null  int64 \n",
            " 14  Unit_Price        113036 non-null  int64 \n",
            " 15  Profit            113036 non-null  int64 \n",
            " 16  Cost              113036 non-null  int64 \n",
            " 17  Revenue           113036 non-null  int64 \n",
            "dtypes: int64(9), object(9)\n",
            "memory usage: 15.5+ MB\n"
          ]
        }
      ],
      "source": [
        "sales.info()"
      ]
    },
    {
      "cell_type": "markdown",
      "metadata": {
        "id": "50ZnMb0XiD92"
      },
      "source": [
        "Agora vamos estimar uma regressão logística \n",
        "\n"
      ]
    },
    {
      "cell_type": "code",
      "execution_count": 84,
      "metadata": {},
      "outputs": [
        {
          "data": {
            "text/plain": [
              "array(['Accessories', 'Clothing', 'Bikes'], dtype=object)"
            ]
          },
          "execution_count": 84,
          "metadata": {},
          "output_type": "execute_result"
        }
      ],
      "source": [
        "#por categoria, filtro somente Bike para o trabalho\n",
        "sales.Product_Category.unique()"
      ]
    },
    {
      "cell_type": "code",
      "execution_count": 85,
      "metadata": {},
      "outputs": [],
      "source": [
        "#definicao de coluna Product_Category como tipo category\n",
        "sales[\"Product_Category\"] = sales[\"Product_Category\"].astype(\"category\")"
      ]
    },
    {
      "cell_type": "code",
      "execution_count": 86,
      "metadata": {},
      "outputs": [],
      "source": [
        "# removendo da coluna Product category as categorias Accessories e Clothing\n",
        "sales[\"Product_Category\"] = sales[\"Product_Category\"].cat.remove_categories(\"Accessories\")"
      ]
    },
    {
      "cell_type": "code",
      "execution_count": 87,
      "metadata": {},
      "outputs": [],
      "source": [
        "sales[\"Product_Category\"] = sales[\"Product_Category\"].cat.remove_categories(\"Clothing\")"
      ]
    },
    {
      "cell_type": "code",
      "execution_count": 88,
      "metadata": {},
      "outputs": [],
      "source": [
        "#limpando os NA's\n",
        "salesbike=sales.dropna(subset=['Product_Category'])"
      ]
    },
    {
      "cell_type": "code",
      "execution_count": 89,
      "metadata": {},
      "outputs": [
        {
          "data": {
            "text/html": [
              "<div>\n",
              "<style scoped>\n",
              "    .dataframe tbody tr th:only-of-type {\n",
              "        vertical-align: middle;\n",
              "    }\n",
              "\n",
              "    .dataframe tbody tr th {\n",
              "        vertical-align: top;\n",
              "    }\n",
              "\n",
              "    .dataframe thead th {\n",
              "        text-align: right;\n",
              "    }\n",
              "</style>\n",
              "<table border=\"1\" class=\"dataframe\">\n",
              "  <thead>\n",
              "    <tr style=\"text-align: right;\">\n",
              "      <th></th>\n",
              "      <th>Date</th>\n",
              "      <th>Day</th>\n",
              "      <th>Month</th>\n",
              "      <th>Year</th>\n",
              "      <th>Customer_Age</th>\n",
              "      <th>Age_Group</th>\n",
              "      <th>Customer_Gender</th>\n",
              "      <th>Country</th>\n",
              "      <th>State</th>\n",
              "      <th>Product_Category</th>\n",
              "      <th>Sub_Category</th>\n",
              "      <th>Product</th>\n",
              "      <th>Order_Quantity</th>\n",
              "      <th>Unit_Cost</th>\n",
              "      <th>Unit_Price</th>\n",
              "      <th>Profit</th>\n",
              "      <th>Cost</th>\n",
              "      <th>Revenue</th>\n",
              "    </tr>\n",
              "  </thead>\n",
              "  <tbody>\n",
              "    <tr>\n",
              "      <th>49304</th>\n",
              "      <td>2013-01-28</td>\n",
              "      <td>28</td>\n",
              "      <td>January</td>\n",
              "      <td>2013</td>\n",
              "      <td>31</td>\n",
              "      <td>Young Adults (25-34)</td>\n",
              "      <td>M</td>\n",
              "      <td>Australia</td>\n",
              "      <td>Queensland</td>\n",
              "      <td>Bikes</td>\n",
              "      <td>Mountain Bikes</td>\n",
              "      <td>Mountain-100 Silver, 38</td>\n",
              "      <td>1</td>\n",
              "      <td>1912</td>\n",
              "      <td>3400</td>\n",
              "      <td>944</td>\n",
              "      <td>1912</td>\n",
              "      <td>2856</td>\n",
              "    </tr>\n",
              "    <tr>\n",
              "      <th>49305</th>\n",
              "      <td>2015-01-28</td>\n",
              "      <td>28</td>\n",
              "      <td>January</td>\n",
              "      <td>2015</td>\n",
              "      <td>31</td>\n",
              "      <td>Young Adults (25-34)</td>\n",
              "      <td>M</td>\n",
              "      <td>Australia</td>\n",
              "      <td>Queensland</td>\n",
              "      <td>Bikes</td>\n",
              "      <td>Mountain Bikes</td>\n",
              "      <td>Mountain-100 Silver, 38</td>\n",
              "      <td>1</td>\n",
              "      <td>1912</td>\n",
              "      <td>3400</td>\n",
              "      <td>944</td>\n",
              "      <td>1912</td>\n",
              "      <td>2856</td>\n",
              "    </tr>\n",
              "    <tr>\n",
              "      <th>49306</th>\n",
              "      <td>2013-07-22</td>\n",
              "      <td>22</td>\n",
              "      <td>July</td>\n",
              "      <td>2013</td>\n",
              "      <td>31</td>\n",
              "      <td>Young Adults (25-34)</td>\n",
              "      <td>M</td>\n",
              "      <td>Australia</td>\n",
              "      <td>Queensland</td>\n",
              "      <td>Bikes</td>\n",
              "      <td>Mountain Bikes</td>\n",
              "      <td>Mountain-100 Silver, 38</td>\n",
              "      <td>1</td>\n",
              "      <td>1912</td>\n",
              "      <td>3400</td>\n",
              "      <td>944</td>\n",
              "      <td>1912</td>\n",
              "      <td>2856</td>\n",
              "    </tr>\n",
              "    <tr>\n",
              "      <th>49307</th>\n",
              "      <td>2015-07-22</td>\n",
              "      <td>22</td>\n",
              "      <td>July</td>\n",
              "      <td>2015</td>\n",
              "      <td>31</td>\n",
              "      <td>Young Adults (25-34)</td>\n",
              "      <td>M</td>\n",
              "      <td>Australia</td>\n",
              "      <td>Queensland</td>\n",
              "      <td>Bikes</td>\n",
              "      <td>Mountain Bikes</td>\n",
              "      <td>Mountain-100 Silver, 38</td>\n",
              "      <td>2</td>\n",
              "      <td>1912</td>\n",
              "      <td>3400</td>\n",
              "      <td>1888</td>\n",
              "      <td>3824</td>\n",
              "      <td>5712</td>\n",
              "    </tr>\n",
              "    <tr>\n",
              "      <th>49308</th>\n",
              "      <td>2013-12-25</td>\n",
              "      <td>25</td>\n",
              "      <td>December</td>\n",
              "      <td>2013</td>\n",
              "      <td>31</td>\n",
              "      <td>Young Adults (25-34)</td>\n",
              "      <td>M</td>\n",
              "      <td>Australia</td>\n",
              "      <td>Queensland</td>\n",
              "      <td>Bikes</td>\n",
              "      <td>Mountain Bikes</td>\n",
              "      <td>Mountain-100 Silver, 38</td>\n",
              "      <td>1</td>\n",
              "      <td>1912</td>\n",
              "      <td>3400</td>\n",
              "      <td>944</td>\n",
              "      <td>1912</td>\n",
              "      <td>2856</td>\n",
              "    </tr>\n",
              "  </tbody>\n",
              "</table>\n",
              "</div>"
            ],
            "text/plain": [
              "             Date  Day     Month  Year  Customer_Age             Age_Group  \\\n",
              "49304  2013-01-28   28   January  2013            31  Young Adults (25-34)   \n",
              "49305  2015-01-28   28   January  2015            31  Young Adults (25-34)   \n",
              "49306  2013-07-22   22      July  2013            31  Young Adults (25-34)   \n",
              "49307  2015-07-22   22      July  2015            31  Young Adults (25-34)   \n",
              "49308  2013-12-25   25  December  2013            31  Young Adults (25-34)   \n",
              "\n",
              "      Customer_Gender    Country       State Product_Category    Sub_Category  \\\n",
              "49304               M  Australia  Queensland            Bikes  Mountain Bikes   \n",
              "49305               M  Australia  Queensland            Bikes  Mountain Bikes   \n",
              "49306               M  Australia  Queensland            Bikes  Mountain Bikes   \n",
              "49307               M  Australia  Queensland            Bikes  Mountain Bikes   \n",
              "49308               M  Australia  Queensland            Bikes  Mountain Bikes   \n",
              "\n",
              "                       Product  Order_Quantity  Unit_Cost  Unit_Price  Profit  \\\n",
              "49304  Mountain-100 Silver, 38               1       1912        3400     944   \n",
              "49305  Mountain-100 Silver, 38               1       1912        3400     944   \n",
              "49306  Mountain-100 Silver, 38               1       1912        3400     944   \n",
              "49307  Mountain-100 Silver, 38               2       1912        3400    1888   \n",
              "49308  Mountain-100 Silver, 38               1       1912        3400     944   \n",
              "\n",
              "       Cost  Revenue  \n",
              "49304  1912     2856  \n",
              "49305  1912     2856  \n",
              "49306  1912     2856  \n",
              "49307  3824     5712  \n",
              "49308  1912     2856  "
            ]
          },
          "execution_count": 89,
          "metadata": {},
          "output_type": "execute_result"
        }
      ],
      "source": [
        "salesbike.head()"
      ]
    },
    {
      "cell_type": "code",
      "execution_count": 90,
      "metadata": {},
      "outputs": [
        {
          "name": "stdout",
          "output_type": "stream",
          "text": [
            "<class 'pandas.core.frame.DataFrame'>\n",
            "Int64Index: 25982 entries, 49304 to 112071\n",
            "Data columns (total 18 columns):\n",
            " #   Column            Non-Null Count  Dtype   \n",
            "---  ------            --------------  -----   \n",
            " 0   Date              25982 non-null  object  \n",
            " 1   Day               25982 non-null  int64   \n",
            " 2   Month             25982 non-null  object  \n",
            " 3   Year              25982 non-null  int64   \n",
            " 4   Customer_Age      25982 non-null  int64   \n",
            " 5   Age_Group         25982 non-null  object  \n",
            " 6   Customer_Gender   25982 non-null  object  \n",
            " 7   Country           25982 non-null  object  \n",
            " 8   State             25982 non-null  object  \n",
            " 9   Product_Category  25982 non-null  category\n",
            " 10  Sub_Category      25982 non-null  object  \n",
            " 11  Product           25982 non-null  object  \n",
            " 12  Order_Quantity    25982 non-null  int64   \n",
            " 13  Unit_Cost         25982 non-null  int64   \n",
            " 14  Unit_Price        25982 non-null  int64   \n",
            " 15  Profit            25982 non-null  int64   \n",
            " 16  Cost              25982 non-null  int64   \n",
            " 17  Revenue           25982 non-null  int64   \n",
            "dtypes: category(1), int64(9), object(8)\n",
            "memory usage: 3.6+ MB\n"
          ]
        }
      ],
      "source": [
        "salesbike.info()"
      ]
    },
    {
      "cell_type": "code",
      "execution_count": 92,
      "metadata": {},
      "outputs": [],
      "source": [
        "salesbike = salesbike.drop(['Day','State','Unit_Cost', 'Unit_Price'], axis=1)"
      ]
    },
    {
      "cell_type": "code",
      "execution_count": 94,
      "metadata": {},
      "outputs": [
        {
          "data": {
            "text/plain": [
              "array(['Mountain Bikes', 'Road Bikes', 'Touring Bikes'], dtype=object)"
            ]
          },
          "execution_count": 94,
          "metadata": {},
          "output_type": "execute_result"
        }
      ],
      "source": [
        "#Irei utilizar somente a categoria Bike e suas subcategorias\n",
        "salesbike.Sub_Category.unique()"
      ]
    },
    {
      "cell_type": "code",
      "execution_count": 95,
      "metadata": {
        "colab": {
          "base_uri": "https://localhost:8080/"
        },
        "id": "E4EVfI-9m0vu",
        "outputId": "a601b78d-176e-4084-8b70-d71b70fa1583"
      },
      "outputs": [
        {
          "name": "stdout",
          "output_type": "stream",
          "text": [
            "<class 'pandas.core.frame.DataFrame'>\n",
            "Int64Index: 25982 entries, 49304 to 112071\n",
            "Data columns (total 14 columns):\n",
            " #   Column            Non-Null Count  Dtype   \n",
            "---  ------            --------------  -----   \n",
            " 0   Date              25982 non-null  object  \n",
            " 1   Month             25982 non-null  object  \n",
            " 2   Year              25982 non-null  int64   \n",
            " 3   Customer_Age      25982 non-null  int64   \n",
            " 4   Age_Group         25982 non-null  object  \n",
            " 5   Customer_Gender   25982 non-null  object  \n",
            " 6   Country           25982 non-null  object  \n",
            " 7   Product_Category  25982 non-null  category\n",
            " 8   Sub_Category      25982 non-null  category\n",
            " 9   Product           25982 non-null  object  \n",
            " 10  Order_Quantity    25982 non-null  int64   \n",
            " 11  Profit            25982 non-null  int64   \n",
            " 12  Cost              25982 non-null  int64   \n",
            " 13  Revenue           25982 non-null  int64   \n",
            "dtypes: category(2), int64(6), object(6)\n",
            "memory usage: 2.6+ MB\n"
          ]
        }
      ],
      "source": [
        "salesbike['Sub_Category'] = salesbike['Sub_Category'].astype('category') # transformando Sub_Category para categórico\n",
        "\n",
        "salesbike.info()"
      ]
    },
    {
      "cell_type": "code",
      "execution_count": 96,
      "metadata": {},
      "outputs": [
        {
          "data": {
            "text/plain": [
              "array(['Young Adults (25-34)', 'Youth (<25)', 'Adults (35-64)',\n",
              "       'Seniors (64+)'], dtype=object)"
            ]
          },
          "execution_count": 96,
          "metadata": {},
          "output_type": "execute_result"
        }
      ],
      "source": [
        "salesbike.Age_Group.unique()"
      ]
    },
    {
      "cell_type": "code",
      "execution_count": 97,
      "metadata": {},
      "outputs": [],
      "source": [
        "#Definindo grupos por idade\n",
        "salesbike['Customer_Gender'] = salesbike['Customer_Gender'] .map({'M': 1, 'F': 0})\n",
        "salesbike['Age_Group'] = salesbike['Age_Group'] .map({'Youth (<25)': 1, 'Young Adults (25-34)': 0, 'Adults (35-64)':0, 'Seniors (64+)':0})"
      ]
    },
    {
      "cell_type": "code",
      "execution_count": 112,
      "metadata": {},
      "outputs": [
        {
          "data": {
            "text/html": [
              "<div>\n",
              "<style scoped>\n",
              "    .dataframe tbody tr th:only-of-type {\n",
              "        vertical-align: middle;\n",
              "    }\n",
              "\n",
              "    .dataframe tbody tr th {\n",
              "        vertical-align: top;\n",
              "    }\n",
              "\n",
              "    .dataframe thead th {\n",
              "        text-align: right;\n",
              "    }\n",
              "</style>\n",
              "<table border=\"1\" class=\"dataframe\">\n",
              "  <thead>\n",
              "    <tr style=\"text-align: right;\">\n",
              "      <th></th>\n",
              "      <th>Date</th>\n",
              "      <th>Month</th>\n",
              "      <th>Year</th>\n",
              "      <th>Customer_Age</th>\n",
              "      <th>Age_Group</th>\n",
              "      <th>Customer_Gender</th>\n",
              "      <th>Country</th>\n",
              "      <th>Product_Category</th>\n",
              "      <th>Sub_Category</th>\n",
              "      <th>Product</th>\n",
              "      <th>Order_Quantity</th>\n",
              "      <th>Profit</th>\n",
              "      <th>Cost</th>\n",
              "      <th>Revenue</th>\n",
              "    </tr>\n",
              "  </thead>\n",
              "  <tbody>\n",
              "    <tr>\n",
              "      <th>49304</th>\n",
              "      <td>2013-01-28</td>\n",
              "      <td>January</td>\n",
              "      <td>2013</td>\n",
              "      <td>31</td>\n",
              "      <td>0</td>\n",
              "      <td>1</td>\n",
              "      <td>Australia</td>\n",
              "      <td>Bikes</td>\n",
              "      <td>Mountain Bikes</td>\n",
              "      <td>Mountain-100 Silver, 38</td>\n",
              "      <td>1</td>\n",
              "      <td>944</td>\n",
              "      <td>1912</td>\n",
              "      <td>2856</td>\n",
              "    </tr>\n",
              "    <tr>\n",
              "      <th>49305</th>\n",
              "      <td>2015-01-28</td>\n",
              "      <td>January</td>\n",
              "      <td>2015</td>\n",
              "      <td>31</td>\n",
              "      <td>0</td>\n",
              "      <td>1</td>\n",
              "      <td>Australia</td>\n",
              "      <td>Bikes</td>\n",
              "      <td>Mountain Bikes</td>\n",
              "      <td>Mountain-100 Silver, 38</td>\n",
              "      <td>1</td>\n",
              "      <td>944</td>\n",
              "      <td>1912</td>\n",
              "      <td>2856</td>\n",
              "    </tr>\n",
              "    <tr>\n",
              "      <th>49306</th>\n",
              "      <td>2013-07-22</td>\n",
              "      <td>July</td>\n",
              "      <td>2013</td>\n",
              "      <td>31</td>\n",
              "      <td>0</td>\n",
              "      <td>1</td>\n",
              "      <td>Australia</td>\n",
              "      <td>Bikes</td>\n",
              "      <td>Mountain Bikes</td>\n",
              "      <td>Mountain-100 Silver, 38</td>\n",
              "      <td>1</td>\n",
              "      <td>944</td>\n",
              "      <td>1912</td>\n",
              "      <td>2856</td>\n",
              "    </tr>\n",
              "    <tr>\n",
              "      <th>49307</th>\n",
              "      <td>2015-07-22</td>\n",
              "      <td>July</td>\n",
              "      <td>2015</td>\n",
              "      <td>31</td>\n",
              "      <td>0</td>\n",
              "      <td>1</td>\n",
              "      <td>Australia</td>\n",
              "      <td>Bikes</td>\n",
              "      <td>Mountain Bikes</td>\n",
              "      <td>Mountain-100 Silver, 38</td>\n",
              "      <td>2</td>\n",
              "      <td>1888</td>\n",
              "      <td>3824</td>\n",
              "      <td>5712</td>\n",
              "    </tr>\n",
              "    <tr>\n",
              "      <th>49308</th>\n",
              "      <td>2013-12-25</td>\n",
              "      <td>December</td>\n",
              "      <td>2013</td>\n",
              "      <td>31</td>\n",
              "      <td>0</td>\n",
              "      <td>1</td>\n",
              "      <td>Australia</td>\n",
              "      <td>Bikes</td>\n",
              "      <td>Mountain Bikes</td>\n",
              "      <td>Mountain-100 Silver, 38</td>\n",
              "      <td>1</td>\n",
              "      <td>944</td>\n",
              "      <td>1912</td>\n",
              "      <td>2856</td>\n",
              "    </tr>\n",
              "  </tbody>\n",
              "</table>\n",
              "</div>"
            ],
            "text/plain": [
              "             Date     Month  Year  Customer_Age  Age_Group  Customer_Gender  \\\n",
              "49304  2013-01-28   January  2013            31          0                1   \n",
              "49305  2015-01-28   January  2015            31          0                1   \n",
              "49306  2013-07-22      July  2013            31          0                1   \n",
              "49307  2015-07-22      July  2015            31          0                1   \n",
              "49308  2013-12-25  December  2013            31          0                1   \n",
              "\n",
              "         Country Product_Category    Sub_Category                  Product  \\\n",
              "49304  Australia            Bikes  Mountain Bikes  Mountain-100 Silver, 38   \n",
              "49305  Australia            Bikes  Mountain Bikes  Mountain-100 Silver, 38   \n",
              "49306  Australia            Bikes  Mountain Bikes  Mountain-100 Silver, 38   \n",
              "49307  Australia            Bikes  Mountain Bikes  Mountain-100 Silver, 38   \n",
              "49308  Australia            Bikes  Mountain Bikes  Mountain-100 Silver, 38   \n",
              "\n",
              "       Order_Quantity  Profit  Cost  Revenue  \n",
              "49304               1     944  1912     2856  \n",
              "49305               1     944  1912     2856  \n",
              "49306               1     944  1912     2856  \n",
              "49307               2    1888  3824     5712  \n",
              "49308               1     944  1912     2856  "
            ]
          },
          "execution_count": 112,
          "metadata": {},
          "output_type": "execute_result"
        }
      ],
      "source": [
        "salesbike.head()"
      ]
    },
    {
      "cell_type": "code",
      "execution_count": 113,
      "metadata": {},
      "outputs": [
        {
          "data": {
            "text/plain": [
              "array(['Australia', 'United States', 'Canada', 'France', 'United Kingdom',\n",
              "       'Germany'], dtype=object)"
            ]
          },
          "execution_count": 113,
          "metadata": {},
          "output_type": "execute_result"
        }
      ],
      "source": [
        "#Verificando os paises\n",
        "salesbike.Country.unique()"
      ]
    },
    {
      "cell_type": "code",
      "execution_count": 114,
      "metadata": {
        "id": "fJkjrkvxhlSD"
      },
      "outputs": [],
      "source": [
        "model = LogisticRegression(penalty='none', solver='lbfgs') #newton-cg - método de resolução"
      ]
    },
    {
      "cell_type": "code",
      "execution_count": 147,
      "metadata": {
        "id": "3IvJz-bJjNV4"
      },
      "outputs": [],
      "source": [
        "salescnt = salesbike[['Country', 'Customer_Gender','Age_Group', 'Sub_Category','Profit']]\n"
      ]
    },
    {
      "cell_type": "code",
      "execution_count": 148,
      "metadata": {
        "colab": {
          "base_uri": "https://localhost:8080/",
          "height": 206
        },
        "id": "fQiwNqv7jmjX",
        "outputId": "a7d82ed7-3474-44d2-ff40-ec01c805782c"
      },
      "outputs": [
        {
          "data": {
            "text/html": [
              "<div>\n",
              "<style scoped>\n",
              "    .dataframe tbody tr th:only-of-type {\n",
              "        vertical-align: middle;\n",
              "    }\n",
              "\n",
              "    .dataframe tbody tr th {\n",
              "        vertical-align: top;\n",
              "    }\n",
              "\n",
              "    .dataframe thead th {\n",
              "        text-align: right;\n",
              "    }\n",
              "</style>\n",
              "<table border=\"1\" class=\"dataframe\">\n",
              "  <thead>\n",
              "    <tr style=\"text-align: right;\">\n",
              "      <th></th>\n",
              "      <th>Country</th>\n",
              "      <th>Customer_Gender</th>\n",
              "      <th>Age_Group</th>\n",
              "      <th>Sub_Category</th>\n",
              "      <th>Profit</th>\n",
              "    </tr>\n",
              "  </thead>\n",
              "  <tbody>\n",
              "    <tr>\n",
              "      <th>49304</th>\n",
              "      <td>Australia</td>\n",
              "      <td>1</td>\n",
              "      <td>0</td>\n",
              "      <td>Mountain Bikes</td>\n",
              "      <td>944</td>\n",
              "    </tr>\n",
              "    <tr>\n",
              "      <th>49305</th>\n",
              "      <td>Australia</td>\n",
              "      <td>1</td>\n",
              "      <td>0</td>\n",
              "      <td>Mountain Bikes</td>\n",
              "      <td>944</td>\n",
              "    </tr>\n",
              "    <tr>\n",
              "      <th>49306</th>\n",
              "      <td>Australia</td>\n",
              "      <td>1</td>\n",
              "      <td>0</td>\n",
              "      <td>Mountain Bikes</td>\n",
              "      <td>944</td>\n",
              "    </tr>\n",
              "    <tr>\n",
              "      <th>49307</th>\n",
              "      <td>Australia</td>\n",
              "      <td>1</td>\n",
              "      <td>0</td>\n",
              "      <td>Mountain Bikes</td>\n",
              "      <td>1888</td>\n",
              "    </tr>\n",
              "    <tr>\n",
              "      <th>49308</th>\n",
              "      <td>Australia</td>\n",
              "      <td>1</td>\n",
              "      <td>0</td>\n",
              "      <td>Mountain Bikes</td>\n",
              "      <td>944</td>\n",
              "    </tr>\n",
              "  </tbody>\n",
              "</table>\n",
              "</div>"
            ],
            "text/plain": [
              "         Country  Customer_Gender  Age_Group    Sub_Category  Profit\n",
              "49304  Australia                1          0  Mountain Bikes     944\n",
              "49305  Australia                1          0  Mountain Bikes     944\n",
              "49306  Australia                1          0  Mountain Bikes     944\n",
              "49307  Australia                1          0  Mountain Bikes    1888\n",
              "49308  Australia                1          0  Mountain Bikes     944"
            ]
          },
          "execution_count": 148,
          "metadata": {},
          "output_type": "execute_result"
        }
      ],
      "source": [
        "salescnt.head()"
      ]
    },
    {
      "cell_type": "code",
      "execution_count": 149,
      "metadata": {
        "id": "1g3QajW1jpJP"
      },
      "outputs": [],
      "source": [
        "X = pd.get_dummies(salescnt[['Country', 'Age_Group', 'Sub_Category','Profit']]) # transformação em variável dummy"
      ]
    },
    {
      "cell_type": "code",
      "execution_count": 150,
      "metadata": {
        "colab": {
          "base_uri": "https://localhost:8080/"
        },
        "id": "XIArB8fvlOeF",
        "outputId": "63276165-8909-406c-b088-94e276698514"
      },
      "outputs": [
        {
          "name": "stdout",
          "output_type": "stream",
          "text": [
            "<class 'pandas.core.frame.DataFrame'>\n",
            "Int64Index: 25982 entries, 49304 to 112071\n",
            "Data columns (total 11 columns):\n",
            " #   Column                       Non-Null Count  Dtype\n",
            "---  ------                       --------------  -----\n",
            " 0   Age_Group                    25982 non-null  int64\n",
            " 1   Profit                       25982 non-null  int64\n",
            " 2   Country_Australia            25982 non-null  uint8\n",
            " 3   Country_Canada               25982 non-null  uint8\n",
            " 4   Country_France               25982 non-null  uint8\n",
            " 5   Country_Germany              25982 non-null  uint8\n",
            " 6   Country_United Kingdom       25982 non-null  uint8\n",
            " 7   Country_United States        25982 non-null  uint8\n",
            " 8   Sub_Category_Mountain Bikes  25982 non-null  uint8\n",
            " 9   Sub_Category_Road Bikes      25982 non-null  uint8\n",
            " 10  Sub_Category_Touring Bikes   25982 non-null  uint8\n",
            "dtypes: int64(2), uint8(9)\n",
            "memory usage: 837.3 KB\n"
          ]
        }
      ],
      "source": [
        "X.info()"
      ]
    },
    {
      "cell_type": "code",
      "execution_count": 151,
      "metadata": {
        "colab": {
          "base_uri": "https://localhost:8080/",
          "height": 423
        },
        "id": "ERBwYrf-lQU7",
        "outputId": "fec11c6f-95bb-4b46-affe-81425563c190"
      },
      "outputs": [
        {
          "data": {
            "text/html": [
              "<div>\n",
              "<style scoped>\n",
              "    .dataframe tbody tr th:only-of-type {\n",
              "        vertical-align: middle;\n",
              "    }\n",
              "\n",
              "    .dataframe tbody tr th {\n",
              "        vertical-align: top;\n",
              "    }\n",
              "\n",
              "    .dataframe thead th {\n",
              "        text-align: right;\n",
              "    }\n",
              "</style>\n",
              "<table border=\"1\" class=\"dataframe\">\n",
              "  <thead>\n",
              "    <tr style=\"text-align: right;\">\n",
              "      <th></th>\n",
              "      <th>Age_Group</th>\n",
              "      <th>Profit</th>\n",
              "      <th>Country_Australia</th>\n",
              "      <th>Country_Canada</th>\n",
              "      <th>Country_France</th>\n",
              "      <th>Country_Germany</th>\n",
              "      <th>Country_United Kingdom</th>\n",
              "      <th>Country_United States</th>\n",
              "      <th>Sub_Category_Mountain Bikes</th>\n",
              "      <th>Sub_Category_Road Bikes</th>\n",
              "      <th>Sub_Category_Touring Bikes</th>\n",
              "    </tr>\n",
              "  </thead>\n",
              "  <tbody>\n",
              "    <tr>\n",
              "      <th>49304</th>\n",
              "      <td>0</td>\n",
              "      <td>944</td>\n",
              "      <td>1</td>\n",
              "      <td>0</td>\n",
              "      <td>0</td>\n",
              "      <td>0</td>\n",
              "      <td>0</td>\n",
              "      <td>0</td>\n",
              "      <td>1</td>\n",
              "      <td>0</td>\n",
              "      <td>0</td>\n",
              "    </tr>\n",
              "    <tr>\n",
              "      <th>49305</th>\n",
              "      <td>0</td>\n",
              "      <td>944</td>\n",
              "      <td>1</td>\n",
              "      <td>0</td>\n",
              "      <td>0</td>\n",
              "      <td>0</td>\n",
              "      <td>0</td>\n",
              "      <td>0</td>\n",
              "      <td>1</td>\n",
              "      <td>0</td>\n",
              "      <td>0</td>\n",
              "    </tr>\n",
              "    <tr>\n",
              "      <th>49306</th>\n",
              "      <td>0</td>\n",
              "      <td>944</td>\n",
              "      <td>1</td>\n",
              "      <td>0</td>\n",
              "      <td>0</td>\n",
              "      <td>0</td>\n",
              "      <td>0</td>\n",
              "      <td>0</td>\n",
              "      <td>1</td>\n",
              "      <td>0</td>\n",
              "      <td>0</td>\n",
              "    </tr>\n",
              "    <tr>\n",
              "      <th>49307</th>\n",
              "      <td>0</td>\n",
              "      <td>1888</td>\n",
              "      <td>1</td>\n",
              "      <td>0</td>\n",
              "      <td>0</td>\n",
              "      <td>0</td>\n",
              "      <td>0</td>\n",
              "      <td>0</td>\n",
              "      <td>1</td>\n",
              "      <td>0</td>\n",
              "      <td>0</td>\n",
              "    </tr>\n",
              "    <tr>\n",
              "      <th>49308</th>\n",
              "      <td>0</td>\n",
              "      <td>944</td>\n",
              "      <td>1</td>\n",
              "      <td>0</td>\n",
              "      <td>0</td>\n",
              "      <td>0</td>\n",
              "      <td>0</td>\n",
              "      <td>0</td>\n",
              "      <td>1</td>\n",
              "      <td>0</td>\n",
              "      <td>0</td>\n",
              "    </tr>\n",
              "    <tr>\n",
              "      <th>...</th>\n",
              "      <td>...</td>\n",
              "      <td>...</td>\n",
              "      <td>...</td>\n",
              "      <td>...</td>\n",
              "      <td>...</td>\n",
              "      <td>...</td>\n",
              "      <td>...</td>\n",
              "      <td>...</td>\n",
              "      <td>...</td>\n",
              "      <td>...</td>\n",
              "      <td>...</td>\n",
              "    </tr>\n",
              "    <tr>\n",
              "      <th>112067</th>\n",
              "      <td>0</td>\n",
              "      <td>2420</td>\n",
              "      <td>0</td>\n",
              "      <td>0</td>\n",
              "      <td>0</td>\n",
              "      <td>0</td>\n",
              "      <td>1</td>\n",
              "      <td>0</td>\n",
              "      <td>0</td>\n",
              "      <td>0</td>\n",
              "      <td>1</td>\n",
              "    </tr>\n",
              "    <tr>\n",
              "      <th>112068</th>\n",
              "      <td>0</td>\n",
              "      <td>807</td>\n",
              "      <td>0</td>\n",
              "      <td>0</td>\n",
              "      <td>0</td>\n",
              "      <td>0</td>\n",
              "      <td>1</td>\n",
              "      <td>0</td>\n",
              "      <td>0</td>\n",
              "      <td>0</td>\n",
              "      <td>1</td>\n",
              "    </tr>\n",
              "    <tr>\n",
              "      <th>112069</th>\n",
              "      <td>0</td>\n",
              "      <td>1613</td>\n",
              "      <td>0</td>\n",
              "      <td>0</td>\n",
              "      <td>0</td>\n",
              "      <td>0</td>\n",
              "      <td>1</td>\n",
              "      <td>0</td>\n",
              "      <td>0</td>\n",
              "      <td>0</td>\n",
              "      <td>1</td>\n",
              "    </tr>\n",
              "    <tr>\n",
              "      <th>112070</th>\n",
              "      <td>0</td>\n",
              "      <td>807</td>\n",
              "      <td>0</td>\n",
              "      <td>0</td>\n",
              "      <td>0</td>\n",
              "      <td>0</td>\n",
              "      <td>1</td>\n",
              "      <td>0</td>\n",
              "      <td>0</td>\n",
              "      <td>0</td>\n",
              "      <td>1</td>\n",
              "    </tr>\n",
              "    <tr>\n",
              "      <th>112071</th>\n",
              "      <td>0</td>\n",
              "      <td>1613</td>\n",
              "      <td>0</td>\n",
              "      <td>0</td>\n",
              "      <td>0</td>\n",
              "      <td>0</td>\n",
              "      <td>1</td>\n",
              "      <td>0</td>\n",
              "      <td>0</td>\n",
              "      <td>0</td>\n",
              "      <td>1</td>\n",
              "    </tr>\n",
              "  </tbody>\n",
              "</table>\n",
              "<p>25982 rows × 11 columns</p>\n",
              "</div>"
            ],
            "text/plain": [
              "        Age_Group  Profit  Country_Australia  Country_Canada  Country_France  \\\n",
              "49304           0     944                  1               0               0   \n",
              "49305           0     944                  1               0               0   \n",
              "49306           0     944                  1               0               0   \n",
              "49307           0    1888                  1               0               0   \n",
              "49308           0     944                  1               0               0   \n",
              "...           ...     ...                ...             ...             ...   \n",
              "112067          0    2420                  0               0               0   \n",
              "112068          0     807                  0               0               0   \n",
              "112069          0    1613                  0               0               0   \n",
              "112070          0     807                  0               0               0   \n",
              "112071          0    1613                  0               0               0   \n",
              "\n",
              "        Country_Germany  Country_United Kingdom  Country_United States  \\\n",
              "49304                 0                       0                      0   \n",
              "49305                 0                       0                      0   \n",
              "49306                 0                       0                      0   \n",
              "49307                 0                       0                      0   \n",
              "49308                 0                       0                      0   \n",
              "...                 ...                     ...                    ...   \n",
              "112067                0                       1                      0   \n",
              "112068                0                       1                      0   \n",
              "112069                0                       1                      0   \n",
              "112070                0                       1                      0   \n",
              "112071                0                       1                      0   \n",
              "\n",
              "        Sub_Category_Mountain Bikes  Sub_Category_Road Bikes  \\\n",
              "49304                             1                        0   \n",
              "49305                             1                        0   \n",
              "49306                             1                        0   \n",
              "49307                             1                        0   \n",
              "49308                             1                        0   \n",
              "...                             ...                      ...   \n",
              "112067                            0                        0   \n",
              "112068                            0                        0   \n",
              "112069                            0                        0   \n",
              "112070                            0                        0   \n",
              "112071                            0                        0   \n",
              "\n",
              "        Sub_Category_Touring Bikes  \n",
              "49304                            0  \n",
              "49305                            0  \n",
              "49306                            0  \n",
              "49307                            0  \n",
              "49308                            0  \n",
              "...                            ...  \n",
              "112067                           1  \n",
              "112068                           1  \n",
              "112069                           1  \n",
              "112070                           1  \n",
              "112071                           1  \n",
              "\n",
              "[25982 rows x 11 columns]"
            ]
          },
          "execution_count": 151,
          "metadata": {},
          "output_type": "execute_result"
        }
      ],
      "source": [
        "X"
      ]
    },
    {
      "cell_type": "code",
      "execution_count": 152,
      "metadata": {},
      "outputs": [],
      "source": [
        "X.columns = X.columns.str.replace(\" \", \"_\")"
      ]
    },
    {
      "cell_type": "code",
      "execution_count": 153,
      "metadata": {},
      "outputs": [
        {
          "name": "stdout",
          "output_type": "stream",
          "text": [
            "<class 'pandas.core.frame.DataFrame'>\n",
            "Int64Index: 25982 entries, 49304 to 112071\n",
            "Data columns (total 11 columns):\n",
            " #   Column                       Non-Null Count  Dtype\n",
            "---  ------                       --------------  -----\n",
            " 0   Age_Group                    25982 non-null  int64\n",
            " 1   Profit                       25982 non-null  int64\n",
            " 2   Country_Australia            25982 non-null  uint8\n",
            " 3   Country_Canada               25982 non-null  uint8\n",
            " 4   Country_France               25982 non-null  uint8\n",
            " 5   Country_Germany              25982 non-null  uint8\n",
            " 6   Country_United_Kingdom       25982 non-null  uint8\n",
            " 7   Country_United_States        25982 non-null  uint8\n",
            " 8   Sub_Category_Mountain_Bikes  25982 non-null  uint8\n",
            " 9   Sub_Category_Road_Bikes      25982 non-null  uint8\n",
            " 10  Sub_Category_Touring_Bikes   25982 non-null  uint8\n",
            "dtypes: int64(2), uint8(9)\n",
            "memory usage: 837.3 KB\n"
          ]
        }
      ],
      "source": [
        "X.info()"
      ]
    },
    {
      "cell_type": "code",
      "execution_count": 154,
      "metadata": {
        "colab": {
          "base_uri": "https://localhost:8080/"
        },
        "id": "Gyd2HbB0mhWZ",
        "outputId": "8ca15ff2-ab4b-46e7-eb29-01a075db3d95"
      },
      "outputs": [
        {
          "data": {
            "text/plain": [
              "49304     1\n",
              "49305     1\n",
              "49306     1\n",
              "49307     1\n",
              "49308     1\n",
              "         ..\n",
              "112067    0\n",
              "112068    0\n",
              "112069    0\n",
              "112070    0\n",
              "112071    0\n",
              "Name: Customer_Gender, Length: 25982, dtype: int64"
            ]
          },
          "execution_count": 154,
          "metadata": {},
          "output_type": "execute_result"
        }
      ],
      "source": [
        "#Contagem de Age_Group - por idade\n",
        "y = salescnt.Customer_Gender\n",
        "y"
      ]
    },
    {
      "cell_type": "code",
      "execution_count": 155,
      "metadata": {
        "colab": {
          "base_uri": "https://localhost:8080/"
        },
        "id": "uwekFlkcumfz",
        "outputId": "6b24cf16-d1ba-4ff6-9a71-bf0d8ee254e8"
      },
      "outputs": [
        {
          "data": {
            "text/html": [
              "<style>#sk-container-id-6 {color: black;background-color: white;}#sk-container-id-6 pre{padding: 0;}#sk-container-id-6 div.sk-toggleable {background-color: white;}#sk-container-id-6 label.sk-toggleable__label {cursor: pointer;display: block;width: 100%;margin-bottom: 0;padding: 0.3em;box-sizing: border-box;text-align: center;}#sk-container-id-6 label.sk-toggleable__label-arrow:before {content: \"▸\";float: left;margin-right: 0.25em;color: #696969;}#sk-container-id-6 label.sk-toggleable__label-arrow:hover:before {color: black;}#sk-container-id-6 div.sk-estimator:hover label.sk-toggleable__label-arrow:before {color: black;}#sk-container-id-6 div.sk-toggleable__content {max-height: 0;max-width: 0;overflow: hidden;text-align: left;background-color: #f0f8ff;}#sk-container-id-6 div.sk-toggleable__content pre {margin: 0.2em;color: black;border-radius: 0.25em;background-color: #f0f8ff;}#sk-container-id-6 input.sk-toggleable__control:checked~div.sk-toggleable__content {max-height: 200px;max-width: 100%;overflow: auto;}#sk-container-id-6 input.sk-toggleable__control:checked~label.sk-toggleable__label-arrow:before {content: \"▾\";}#sk-container-id-6 div.sk-estimator input.sk-toggleable__control:checked~label.sk-toggleable__label {background-color: #d4ebff;}#sk-container-id-6 div.sk-label input.sk-toggleable__control:checked~label.sk-toggleable__label {background-color: #d4ebff;}#sk-container-id-6 input.sk-hidden--visually {border: 0;clip: rect(1px 1px 1px 1px);clip: rect(1px, 1px, 1px, 1px);height: 1px;margin: -1px;overflow: hidden;padding: 0;position: absolute;width: 1px;}#sk-container-id-6 div.sk-estimator {font-family: monospace;background-color: #f0f8ff;border: 1px dotted black;border-radius: 0.25em;box-sizing: border-box;margin-bottom: 0.5em;}#sk-container-id-6 div.sk-estimator:hover {background-color: #d4ebff;}#sk-container-id-6 div.sk-parallel-item::after {content: \"\";width: 100%;border-bottom: 1px solid gray;flex-grow: 1;}#sk-container-id-6 div.sk-label:hover label.sk-toggleable__label {background-color: #d4ebff;}#sk-container-id-6 div.sk-serial::before {content: \"\";position: absolute;border-left: 1px solid gray;box-sizing: border-box;top: 0;bottom: 0;left: 50%;z-index: 0;}#sk-container-id-6 div.sk-serial {display: flex;flex-direction: column;align-items: center;background-color: white;padding-right: 0.2em;padding-left: 0.2em;position: relative;}#sk-container-id-6 div.sk-item {position: relative;z-index: 1;}#sk-container-id-6 div.sk-parallel {display: flex;align-items: stretch;justify-content: center;background-color: white;position: relative;}#sk-container-id-6 div.sk-item::before, #sk-container-id-6 div.sk-parallel-item::before {content: \"\";position: absolute;border-left: 1px solid gray;box-sizing: border-box;top: 0;bottom: 0;left: 50%;z-index: -1;}#sk-container-id-6 div.sk-parallel-item {display: flex;flex-direction: column;z-index: 1;position: relative;background-color: white;}#sk-container-id-6 div.sk-parallel-item:first-child::after {align-self: flex-end;width: 50%;}#sk-container-id-6 div.sk-parallel-item:last-child::after {align-self: flex-start;width: 50%;}#sk-container-id-6 div.sk-parallel-item:only-child::after {width: 0;}#sk-container-id-6 div.sk-dashed-wrapped {border: 1px dashed gray;margin: 0 0.4em 0.5em 0.4em;box-sizing: border-box;padding-bottom: 0.4em;background-color: white;}#sk-container-id-6 div.sk-label label {font-family: monospace;font-weight: bold;display: inline-block;line-height: 1.2em;}#sk-container-id-6 div.sk-label-container {text-align: center;}#sk-container-id-6 div.sk-container {/* jupyter's `normalize.less` sets `[hidden] { display: none; }` but bootstrap.min.css set `[hidden] { display: none !important; }` so we also need the `!important` here to be able to override the default hidden behavior on the sphinx rendered scikit-learn.org. See: https://github.com/scikit-learn/scikit-learn/issues/21755 */display: inline-block !important;position: relative;}#sk-container-id-6 div.sk-text-repr-fallback {display: none;}</style><div id=\"sk-container-id-6\" class=\"sk-top-container\"><div class=\"sk-text-repr-fallback\"><pre>LogisticRegression(penalty=&#x27;none&#x27;)</pre><b>In a Jupyter environment, please rerun this cell to show the HTML representation or trust the notebook. <br />On GitHub, the HTML representation is unable to render, please try loading this page with nbviewer.org.</b></div><div class=\"sk-container\" hidden><div class=\"sk-item\"><div class=\"sk-estimator sk-toggleable\"><input class=\"sk-toggleable__control sk-hidden--visually\" id=\"sk-estimator-id-6\" type=\"checkbox\" checked><label for=\"sk-estimator-id-6\" class=\"sk-toggleable__label sk-toggleable__label-arrow\">LogisticRegression</label><div class=\"sk-toggleable__content\"><pre>LogisticRegression(penalty=&#x27;none&#x27;)</pre></div></div></div></div></div>"
            ],
            "text/plain": [
              "LogisticRegression(penalty='none')"
            ]
          },
          "execution_count": 155,
          "metadata": {},
          "output_type": "execute_result"
        }
      ],
      "source": [
        "model.fit(X,y)"
      ]
    },
    {
      "cell_type": "code",
      "execution_count": 156,
      "metadata": {
        "colab": {
          "base_uri": "https://localhost:8080/"
        },
        "id": "aXDm7wWTuq4q",
        "outputId": "1c2c1292-e00f-4979-a5ec-0e7e964fbac6"
      },
      "outputs": [
        {
          "name": "stdout",
          "output_type": "stream",
          "text": [
            "[[ 2.44098635e-01 -2.48473101e-05  2.60647140e-02  1.21993129e-02\n",
            "   5.87356246e-02 -1.26630745e-01  4.66220468e-02 -2.02726981e-02\n",
            "  -4.70306970e-02  4.82812272e-02 -4.53227547e-03]]\n"
          ]
        }
      ],
      "source": [
        "print(model.coef_)"
      ]
    },
    {
      "cell_type": "markdown",
      "metadata": {
        "id": "QQceQwp0wrV3"
      },
      "source": [
        "-1,73 (sex - b1)     -0,069(age - b2) + 0,33 (retecg - b3) -0,70 (cp_0 - b4) + 1,77 (cp_1 - b5) + 1,64 (cp_2 - b6) + 1,60(cp_3 - b7)   \n",
        "\n",
        "y(estimativa) = B0 -1,73*sex -0,069*age +0,33*retecg -0,70*cp_0 +1,77*cp_1 +1,64*cp_2 +1,60*cp_3                   #Sinal menos ---- diminui    "
      ]
    },
    {
      "cell_type": "markdown",
      "metadata": {
        "id": "bxxcQoIlyDOF"
      },
      "source": [
        "Rodar modelo de regressão linear generalizada"
      ]
    },
    {
      "cell_type": "code",
      "execution_count": 157,
      "metadata": {
        "id": "6rM3hjNWyGLr"
      },
      "outputs": [],
      "source": [
        "modelo = smf.glm(formula='Age_Group ~ Profit + Country +  Sub_Category', data=salescnt, \n",
        "                 family = sm.families.Binomial()).fit()"
      ]
    },
    {
      "cell_type": "code",
      "execution_count": 158,
      "metadata": {
        "colab": {
          "base_uri": "https://localhost:8080/"
        },
        "id": "2KDVFRURyNa1",
        "outputId": "0265dd22-1cd2-41c3-8c24-77fb83a3f96c"
      },
      "outputs": [
        {
          "data": {
            "text/plain": [
              "<statsmodels.genmod.generalized_linear_model.GLMResultsWrapper at 0x7f9c6fc44100>"
            ]
          },
          "execution_count": 158,
          "metadata": {},
          "output_type": "execute_result"
        }
      ],
      "source": [
        "modelo"
      ]
    },
    {
      "cell_type": "code",
      "execution_count": 159,
      "metadata": {
        "colab": {
          "base_uri": "https://localhost:8080/"
        },
        "id": "wWTgPtbmyTWR",
        "outputId": "979a9fe0-3b0b-4d60-86c7-c71e0b651585"
      },
      "outputs": [
        {
          "name": "stdout",
          "output_type": "stream",
          "text": [
            "                 Generalized Linear Model Regression Results                  \n",
            "==============================================================================\n",
            "Dep. Variable:              Age_Group   No. Observations:                25982\n",
            "Model:                            GLM   Df Residuals:                    25973\n",
            "Model Family:                Binomial   Df Model:                            8\n",
            "Link Function:                  Logit   Scale:                          1.0000\n",
            "Method:                          IRLS   Log-Likelihood:                -9818.9\n",
            "Date:                Wed, 26 Oct 2022   Deviance:                       19638.\n",
            "Time:                        20:08:18   Pearson chi2:                 2.59e+04\n",
            "No. Iterations:                     5   Pseudo R-squ. (CS):            0.01915\n",
            "Covariance Type:            nonrobust                                         \n",
            "=================================================================================================\n",
            "                                    coef    std err          z      P>|z|      [0.025      0.975]\n",
            "-------------------------------------------------------------------------------------------------\n",
            "Intercept                        -1.4698      0.047    -31.283      0.000      -1.562      -1.378\n",
            "Country[T.Canada]                -0.8098      0.090     -8.990      0.000      -0.986      -0.633\n",
            "Country[T.France]                -0.9192      0.073    -12.637      0.000      -1.062      -0.777\n",
            "Country[T.Germany]               -0.7334      0.066    -11.111      0.000      -0.863      -0.604\n",
            "Country[T.United Kingdom]        -0.5504      0.059     -9.293      0.000      -0.667      -0.434\n",
            "Country[T.United States]         -0.8257      0.048    -17.147      0.000      -0.920      -0.731\n",
            "Sub_Category[T.Road Bikes]        0.1402      0.041      3.410      0.001       0.060       0.221\n",
            "Sub_Category[T.Touring Bikes]    -0.3505      0.067     -5.212      0.000      -0.482      -0.219\n",
            "Profit                         6.726e-05   2.83e-05      2.379      0.017    1.19e-05       0.000\n",
            "=================================================================================================\n"
          ]
        }
      ],
      "source": [
        "print(modelo.summary())"
      ]
    },
    {
      "cell_type": "code",
      "execution_count": 160,
      "metadata": {
        "id": "U_GU4T-n7qf6"
      },
      "outputs": [],
      "source": [
        "yestimativa=model.predict_proba(X)"
      ]
    },
    {
      "cell_type": "code",
      "execution_count": 161,
      "metadata": {
        "colab": {
          "base_uri": "https://localhost:8080/"
        },
        "id": "f3M5qZWZ8PUB",
        "outputId": "b41e36e9-759d-4ab1-a390-57c3456b7369"
      },
      "outputs": [
        {
          "data": {
            "text/plain": [
              "array([[0.51192364, 0.48807636],\n",
              "       [0.51192364, 0.48807636],\n",
              "       [0.51192364, 0.48807636],\n",
              "       ...,\n",
              "       [0.50031767, 0.49968233],\n",
              "       [0.49531108, 0.50468892],\n",
              "       [0.50031767, 0.49968233]])"
            ]
          },
          "execution_count": 161,
          "metadata": {},
          "output_type": "execute_result"
        }
      ],
      "source": [
        "yestimativa # calcula por linha a probabilidade "
      ]
    },
    {
      "cell_type": "code",
      "execution_count": 162,
      "metadata": {
        "colab": {
          "base_uri": "https://localhost:8080/"
        },
        "id": "YtOywU7l8f9G",
        "outputId": "c28d1c72-095c-4d22-8e5e-a7f82705ad37"
      },
      "outputs": [
        {
          "data": {
            "text/plain": [
              "array([[6051, 6801],\n",
              "       [5969, 7161]])"
            ]
          },
          "execution_count": 162,
          "metadata": {},
          "output_type": "execute_result"
        }
      ],
      "source": [
        "confusion_matrix(y, model.predict(X)) # matriz comparação entre y (real) e model.predict(X)-predição do algoritmo ----é uma contagem de positivos e negativos"
      ]
    },
    {
      "cell_type": "code",
      "execution_count": 163,
      "metadata": {
        "colab": {
          "base_uri": "https://localhost:8080/",
          "height": 143
        },
        "id": "cTFaXwbK9HHe",
        "outputId": "d5085dae-86dd-4341-91cb-6a3a66dbf41b"
      },
      "outputs": [
        {
          "data": {
            "text/html": [
              "<div>\n",
              "<style scoped>\n",
              "    .dataframe tbody tr th:only-of-type {\n",
              "        vertical-align: middle;\n",
              "    }\n",
              "\n",
              "    .dataframe tbody tr th {\n",
              "        vertical-align: top;\n",
              "    }\n",
              "\n",
              "    .dataframe thead th {\n",
              "        text-align: right;\n",
              "    }\n",
              "</style>\n",
              "<table border=\"1\" class=\"dataframe\">\n",
              "  <thead>\n",
              "    <tr style=\"text-align: right;\">\n",
              "      <th>col_0</th>\n",
              "      <th>0</th>\n",
              "      <th>1</th>\n",
              "    </tr>\n",
              "    <tr>\n",
              "      <th>Customer_Gender</th>\n",
              "      <th></th>\n",
              "      <th></th>\n",
              "    </tr>\n",
              "  </thead>\n",
              "  <tbody>\n",
              "    <tr>\n",
              "      <th>0</th>\n",
              "      <td>6051</td>\n",
              "      <td>6801</td>\n",
              "    </tr>\n",
              "    <tr>\n",
              "      <th>1</th>\n",
              "      <td>5969</td>\n",
              "      <td>7161</td>\n",
              "    </tr>\n",
              "  </tbody>\n",
              "</table>\n",
              "</div>"
            ],
            "text/plain": [
              "col_0               0     1\n",
              "Customer_Gender            \n",
              "0                6051  6801\n",
              "1                5969  7161"
            ]
          },
          "execution_count": 163,
          "metadata": {},
          "output_type": "execute_result"
        }
      ],
      "source": [
        "pd.crosstab(y, model.predict(X)) \n"
      ]
    },
    {
      "cell_type": "markdown",
      "metadata": {
        "id": "el63i7il9aRQ"
      },
      "source": [
        "true positive   false positive\n",
        "\n",
        "False negative  True negative "
      ]
    },
    {
      "cell_type": "code",
      "execution_count": 164,
      "metadata": {
        "colab": {
          "base_uri": "https://localhost:8080/"
        },
        "id": "qEWfQ_u29Vhk",
        "outputId": "1b5b8bfc-42f3-4747-c119-5a03ccc56f71"
      },
      "outputs": [
        {
          "name": "stdout",
          "output_type": "stream",
          "text": [
            "              precision    recall  f1-score   support\n",
            "\n",
            "           0       0.50      0.47      0.49     12852\n",
            "           1       0.51      0.55      0.53     13130\n",
            "\n",
            "    accuracy                           0.51     25982\n",
            "   macro avg       0.51      0.51      0.51     25982\n",
            "weighted avg       0.51      0.51      0.51     25982\n",
            "\n"
          ]
        }
      ],
      "source": [
        "kpis = (classification_report(y, model.predict(X))) \n",
        "print(kpis)"
      ]
    },
    {
      "cell_type": "markdown",
      "metadata": {
        "id": "nYUK7CgG9yV0"
      },
      "source": [
        "50%% de precisao\n",
        "\n",
        "Até 0,50 - Ruim     entre 0,51 e 0,80 – Bom      acima de 0,81 - Confiável \n",
        "- ----- > Ruim!\n",
        "\n",
        "\n",
        "Recall tem que ser alto.\n",
        "\n",
        "Valores muito proximos de recall e precisao. Nao conseguimos reduzir o numero de falsos positivos "
      ]
    }
  ],
  "metadata": {
    "colab": {
      "collapsed_sections": [],
      "provenance": []
    },
    "kernelspec": {
      "display_name": "Python 3",
      "language": "python",
      "name": "python3"
    },
    "language_info": {
      "codemirror_mode": {
        "name": "ipython",
        "version": 3
      },
      "file_extension": ".py",
      "mimetype": "text/x-python",
      "name": "python",
      "nbconvert_exporter": "python",
      "pygments_lexer": "ipython3",
      "version": "3.10.4 (main, Jun 29 2022, 12:14:53) [GCC 11.2.0]"
    },
    "vscode": {
      "interpreter": {
        "hash": "916dbcbb3f70747c44a77c7bcd40155683ae19c65e1c03b4aa3499c5328201f1"
      }
    }
  },
  "nbformat": 4,
  "nbformat_minor": 0
}
